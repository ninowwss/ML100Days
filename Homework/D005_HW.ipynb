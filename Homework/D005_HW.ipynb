{
 "cells": [
  {
   "cell_type": "code",
   "execution_count": null,
   "metadata": {},
   "outputs": [],
   "source": [
    "#english_score = np.array([55,89,76,65,48,70])\n",
    "\n",
    "#math_score = np.array([60,85,60,68,np.nan,60])\n",
    "\n",
    "#chinese_score = np.array([65,90,82,72,66,77])\n",
    "\n",
    "\n",
    "\n",
    "#上 3 列共六位同學的英文、數學、國文成績，第一個元素代表第一位同學，舉例第一位同學英文 55 分、數學 60 分、國文 65 分，今天第五位同學因某原因沒來考試，導致數學成績缺值，運用上列數據回答下列問題。\n",
    "\n",
    "\n",
    "\n",
    "#請計算各科成績平均、最大值、最小值、標準差，其中數學缺一筆資料可忽略？\n",
    "#第五位同學補考數學後成績為 55，請計算補考後數學成績平均、最大值、最小值、標準差？\n",
    "#用補考後資料找出與國文成績相關係數最高的學科？"
   ]
  },
  {
   "cell_type": "code",
   "execution_count": 1,
   "metadata": {},
   "outputs": [],
   "source": [
    "#loading numpy\n",
    "import numpy as np"
   ]
  },
  {
   "cell_type": "code",
   "execution_count": 42,
   "metadata": {},
   "outputs": [],
   "source": [
    "english_score = np.array([55,89,76,65,48,70])\n",
    "\n",
    "math_score = np.array([60,85,60,68,np.nan,60])\n",
    "\n",
    "chinese_score = np.array([65,90,82,72,66,77])"
   ]
  },
  {
   "cell_type": "code",
   "execution_count": 43,
   "metadata": {},
   "outputs": [],
   "source": [
    "# self-define function to output the mean, max,min and Sd \n",
    "# max:numpy.nanmax();min:numpy.nanmin();mean:numpy.mean();SD:nanstd()*(omit the nan automatic)\n",
    "\n",
    "#get the name of array\n",
    "def namestr(obj, namespace):\n",
    "    return [name for name in namespace if namespace[name] is obj]\n",
    "\n",
    "\n",
    "def DS(score):\n",
    "    name=input(\"What is the subject?\")\n",
    "    a=np.nanmax(score)\n",
    "    b=np.nanmin(score)\n",
    "    c=np.nanmean(score)\n",
    "    d=np.nanstd(score)\n",
    "    print(name,\":\",\"\\n\",\"Max:\",a,\"\\n\",\"Min:\",b,\"\\n\",\"Mean:\",'%.3f'%c,\"\\n\",\"Standard deviation(SD):\",'%.3f'%d)\n",
    "    \n"
   ]
  },
  {
   "cell_type": "code",
   "execution_count": 45,
   "metadata": {},
   "outputs": [
    {
     "name": "stdout",
     "output_type": "stream",
     "text": [
      "What is the subject?English\n",
      "English : \n",
      " Max: 89 \n",
      " Min: 48 \n",
      " Mean: 67.167 \n",
      " Standard deviation(SD): 13.434\n",
      "What is the subject?Math\n",
      "Math : \n",
      " Max: 85.0 \n",
      " Min: 60.0 \n",
      " Mean: 66.600 \n",
      " Standard deviation(SD): 9.708\n",
      "What is the subject?Chinese\n",
      "Chinese : \n",
      " Max: 90 \n",
      " Min: 65 \n",
      " Mean: 75.333 \n",
      " Standard deviation(SD): 8.825\n"
     ]
    }
   ],
   "source": [
    "#Q1計算各科成績平均、最大值、最小值、標準差，其中數學缺一筆資料可忽略？\n",
    "DS(english_score)\n",
    "DS(math_score)\n",
    "DS(chinese_score)"
   ]
  },
  {
   "cell_type": "code",
   "execution_count": 46,
   "metadata": {},
   "outputs": [
    {
     "name": "stdout",
     "output_type": "stream",
     "text": [
      "What is the subject?Math_r\n",
      "Math_r : \n",
      " Max: 85.0 \n",
      " Min: 55.0 \n",
      " Mean: 64.667 \n",
      " Standard deviation(SD): 9.860\n"
     ]
    }
   ],
   "source": [
    "#Q2#第五位同學補考數學後成績為 55，請計算補考後數學成績平均、最大值、最小值、標準差？\n",
    "# replace nan value\n",
    "math_scorer=math_score\n",
    "math_scorer[np.isnan(math_scorer)]=55\n",
    "math_scorer\n",
    "DS(math_scorer)"
   ]
  },
  {
   "cell_type": "code",
   "execution_count": 52,
   "metadata": {},
   "outputs": [
    {
     "name": "stdout",
     "output_type": "stream",
     "text": [
      "[[1.         0.97792828]\n",
      " [0.97792828 1.        ]]\n",
      "[[1.         0.74056803]\n",
      " [0.74056803 1.        ]]\n"
     ]
    },
    {
     "data": {
      "text/plain": [
       "array([[ True,  True],\n",
       "       [ True,  True]])"
      ]
     },
     "execution_count": 52,
     "metadata": {},
     "output_type": "execute_result"
    }
   ],
   "source": [
    "#Q3.用補考後資料找出與國文成績相關係數最高的學科？\n",
    "\n",
    "CE=np.corrcoef(chinese_score, english_score)\n",
    "CM=np.corrcoef(chinese_score, math_scorer)\n",
    "print(CE)\n",
    "print(CM)\n",
    "np.greater_equal(CE, CM)\n",
    "\n",
    "# Chinese and English has higher correlation than Chinsese and Math"
   ]
  },
  {
   "cell_type": "code",
   "execution_count": null,
   "metadata": {},
   "outputs": [],
   "source": []
  }
 ],
 "metadata": {
  "kernelspec": {
   "display_name": "Python 3",
   "language": "python",
   "name": "python3"
  },
  "language_info": {
   "codemirror_mode": {
    "name": "ipython",
    "version": 3
   },
   "file_extension": ".py",
   "mimetype": "text/x-python",
   "name": "python",
   "nbconvert_exporter": "python",
   "pygments_lexer": "ipython3",
   "version": "3.8.3"
  }
 },
 "nbformat": 4,
 "nbformat_minor": 4
}
