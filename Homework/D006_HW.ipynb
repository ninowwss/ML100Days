{
 "cells": [
  {
   "cell_type": "code",
   "execution_count": null,
   "metadata": {
    "id": "jbkK8wprdbdY"
   },
   "outputs": [],
   "source": []
  },
  {
   "cell_type": "markdown",
   "metadata": {
    "id": "YWb4mnd4fqAG"
   },
   "source": [
    "作業目標<br>\n",
    "讀取存取陣列資料<br>\n",
    "作業重點<br>\n",
    "多陣列存一起需要存成npz，讀取須注意npz中有多個陣列"
   ]
  },
  {
   "cell_type": "markdown",
   "metadata": {
    "id": "UXV4vW6IfsW6"
   },
   "source": [
    "題目:<br>\n",
    "1. 將下兩列array存成npz檔<br>\n",
    "array1 = np.array(range(30))<br>\n",
    "array2 = np.array([2,3,5])<br>\n",
    "2. 讀取剛剛的npz檔，加入下列array一起存成新的npz檔\n"
   ]
  },
  {
   "cell_type": "code",
   "execution_count": 2,
   "metadata": {
    "id": "1mZQSUx_fry7"
   },
   "outputs": [],
   "source": [
    "# load package\n",
    "import numpy as np\n",
    "#1. 將下兩列array存成npz檔\n",
    "x = np.array(range(30))\n",
    "y = np.array([2,3,5])\n",
    "\n",
    "with open ('multi_array.npz','wb') as f:\n",
    "    np.savez(f,array1=x, array2=y)"
   ]
  },
  {
   "cell_type": "code",
   "execution_count": 12,
   "metadata": {
    "id": "Ie1TGcssiIDN"
   },
   "outputs": [
    {
     "name": "stdout",
     "output_type": "stream",
     "text": [
      "[ 0  1  2  3  4  5  6  7  8  9 10 11 12 13 14 15 16 17 18 19 20 21 22 23\n",
      " 24 25 26 27 28 29]\n",
      "[2 3 5]\n",
      "[ 0  1  2  3  4  5  6  7  8  9 10 11 12 13 14 15 16 17 18 19 20 21 22 23\n",
      " 24 25 26 27 28 29 30 31 32 33 34 35 36 37 38 39 40 41 42 43 44 45 46 47\n",
      " 48 49]\n"
     ]
    }
   ],
   "source": [
    "#2. 讀取剛剛的npz檔，加入自訂array一起存成新的npz檔\n",
    "npzfile=np.load('multi_array.npz')\n",
    "type(npzfile)\n",
    "\n",
    "# new array\n",
    "z=np.array(range(50))\n",
    "with open ('new_array.npz','wb') as f:\n",
    "    np.savez(f,array1=npzfile['array1'], array2=npzfile['array2'], array3=z)\n",
    "\n",
    "npzfile1=np.load('new_array.npz')\n",
    "print(npzfile1['array1'])\n",
    "print(npzfile1['array2'])\n",
    "print(npzfile1['array3'])"
   ]
  },
  {
   "cell_type": "code",
   "execution_count": null,
   "metadata": {},
   "outputs": [],
   "source": []
  }
 ],
 "metadata": {
  "colab": {
   "collapsed_sections": [],
   "name": "作業Hong題目.ipynb",
   "provenance": []
  },
  "kernelspec": {
   "display_name": "Python 3",
   "language": "python",
   "name": "python3"
  },
  "language_info": {
   "codemirror_mode": {
    "name": "ipython",
    "version": 3
   },
   "file_extension": ".py",
   "mimetype": "text/x-python",
   "name": "python",
   "nbconvert_exporter": "python",
   "pygments_lexer": "ipython3",
   "version": "3.8.3"
  }
 },
 "nbformat": 4,
 "nbformat_minor": 1
}
