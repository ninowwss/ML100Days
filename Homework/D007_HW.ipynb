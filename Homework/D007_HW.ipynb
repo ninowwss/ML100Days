{
 "cells": [
  {
   "cell_type": "code",
   "execution_count": null,
   "metadata": {},
   "outputs": [],
   "source": [
    "#array1 = np.array([[10, 8], [3, 5]])\n",
    "\n",
    "#運用上列array計算反矩陣，乘上原矩陣，並觀察是否為單位矩陣?\n",
    "#運用上列array計算特徵值、特徵向量?\n",
    "#運用上列array計算SVD?"
   ]
  },
  {
   "cell_type": "code",
   "execution_count": 7,
   "metadata": {},
   "outputs": [
    {
     "name": "stdout",
     "output_type": "stream",
     "text": [
      "[[1. 0.]\n",
      " [0. 1.]]\n",
      "[[1. 0.]\n",
      " [0. 1.]]\n"
     ]
    }
   ],
   "source": [
    "# loading package\n",
    "import numpy as np\n",
    "\n",
    "array1 = np.array([[10, 8], [3, 5]])\n",
    "\n",
    "#反矩陣\n",
    "r_array1=np.linalg.inv(array1)\n",
    "# 矩陣乘法\n",
    "A1=array1@r_array1\n",
    "A2=np.eye(2)\n",
    "print(A1)\n",
    "print(A2)\n"
   ]
  },
  {
   "cell_type": "code",
   "execution_count": 12,
   "metadata": {},
   "outputs": [
    {
     "name": "stdout",
     "output_type": "stream",
     "text": [
      "特徵值: [13.  2.]\n",
      "特徵向量: [[ 0.93632918 -0.70710678]\n",
      " [ 0.35112344  0.70710678]]\n"
     ]
    }
   ],
   "source": [
    "#特徵值、特徵向量 :numpy.eig()\n",
    "w,v=np.linalg.eig(array1)\n",
    "print(\"特徵值:\", w)\n",
    "print('特徵向量:', v)"
   ]
  },
  {
   "cell_type": "code",
   "execution_count": 8,
   "metadata": {},
   "outputs": [
    {
     "data": {
      "text/plain": [
       "(array([[-0.91663818, -0.39971796],\n",
       "        [-0.39971796,  0.91663818]]),\n",
       " array([13.94721714,  1.86417116]),\n",
       " array([[-0.74319741, -0.6690722 ],\n",
       "        [-0.6690722 ,  0.74319741]]))"
      ]
     },
     "execution_count": 8,
     "metadata": {},
     "output_type": "execute_result"
    }
   ],
   "source": [
    "#運用上列array計算SVD\n",
    "\n",
    "np.linalg.svd(array1)"
   ]
  },
  {
   "cell_type": "code",
   "execution_count": null,
   "metadata": {},
   "outputs": [],
   "source": []
  }
 ],
 "metadata": {
  "kernelspec": {
   "display_name": "Python 3",
   "language": "python",
   "name": "python3"
  },
  "language_info": {
   "codemirror_mode": {
    "name": "ipython",
    "version": 3
   },
   "file_extension": ".py",
   "mimetype": "text/x-python",
   "name": "python",
   "nbconvert_exporter": "python",
   "pygments_lexer": "ipython3",
   "version": "3.8.3"
  }
 },
 "nbformat": 4,
 "nbformat_minor": 4
}
